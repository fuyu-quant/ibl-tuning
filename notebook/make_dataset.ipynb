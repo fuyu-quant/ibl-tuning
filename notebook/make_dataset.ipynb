{
 "cells": [
  {
   "cell_type": "code",
   "execution_count": 1,
   "metadata": {},
   "outputs": [
    {
     "name": "stdout",
     "output_type": "stream",
     "text": [
      "Token will not been saved to git credential helper. Pass `add_to_git_credential=True` if you want to set the git credential as well.\n",
      "Token is valid (permission: write).\n",
      "Your token has been saved to /Users/tanakatouma/.cache/huggingface/token\n",
      "Login successful\n"
     ]
    }
   ],
   "source": [
    "import sys\n",
    "sys.path.append('..')\n",
    "import os\n",
    "from src.ibltuning.ibldataset import ibldataset\n",
    "from datasets import Dataset, DatasetDict, load_dataset\n",
    "\n",
    "from huggingface_hub import login\n",
    "\n",
    "login(token=os.environ['HUGGINGFACE'])"
   ]
  },
  {
   "cell_type": "code",
   "execution_count": 2,
   "metadata": {},
   "outputs": [
    {
     "name": "stderr",
     "output_type": "stream",
     "text": [
      "  0%|          | 0/10000 [00:00<?, ?it/s]"
     ]
    },
    {
     "name": "stderr",
     "output_type": "stream",
     "text": [
      " 77%|███████▋  | 7686/10000 [02:24<00:43, 53.34it/s] \n"
     ]
    },
    {
     "ename": "KeyboardInterrupt",
     "evalue": "",
     "output_type": "error",
     "traceback": [
      "\u001b[0;31m---------------------------------------------------------------------------\u001b[0m",
      "\u001b[0;31mKeyboardInterrupt\u001b[0m                         Traceback (most recent call last)",
      "Cell \u001b[0;32mIn[2], line 11\u001b[0m\n\u001b[1;32m      6\u001b[0m \u001b[38;5;66;03m#mode = 'branch'\u001b[39;00m\n\u001b[1;32m      7\u001b[0m \u001b[38;5;66;03m#mode = 'branch_easy'\u001b[39;00m\n\u001b[1;32m      8\u001b[0m \u001b[38;5;66;03m#mode = 'all'\u001b[39;00m\n\u001b[1;32m      9\u001b[0m dataset_name \u001b[38;5;241m=\u001b[39m \u001b[38;5;124m'\u001b[39m\u001b[38;5;124mibl-regression-ver3\u001b[39m\u001b[38;5;124m'\u001b[39m\n\u001b[0;32m---> 11\u001b[0m \u001b[43mibldataset\u001b[49m\u001b[38;5;241;43m.\u001b[39;49m\u001b[43mexecution\u001b[49m\u001b[43m(\u001b[49m\u001b[43mtrain_num\u001b[49m\u001b[43m,\u001b[49m\u001b[43m \u001b[49m\u001b[43mtest_num\u001b[49m\u001b[43m,\u001b[49m\u001b[43m \u001b[49m\u001b[43mnum_rows\u001b[49m\u001b[43m,\u001b[49m\u001b[43m \u001b[49m\u001b[43mmode\u001b[49m\u001b[43m,\u001b[49m\u001b[43m \u001b[49m\u001b[43mdataset_name\u001b[49m\u001b[43m)\u001b[49m\n",
      "File \u001b[0;32m~/vscode/ibl-tuning/notebook/../src/ibltuning/ibldataset/ibldataset.py:67\u001b[0m, in \u001b[0;36mexecution\u001b[0;34m(train_num, test_num, num_rows, mode, dataset_name)\u001b[0m\n\u001b[1;32m     65\u001b[0m \u001b[38;5;28;01mdef\u001b[39;00m \u001b[38;5;21mexecution\u001b[39m(train_num, test_num, num_rows, mode, dataset_name):\n\u001b[1;32m     66\u001b[0m     generated_coefficients \u001b[38;5;241m=\u001b[39m \u001b[38;5;28mset\u001b[39m()\n\u001b[0;32m---> 67\u001b[0m     train_dataset \u001b[38;5;241m=\u001b[39m \u001b[43mmake_dataset\u001b[49m\u001b[43m(\u001b[49m\u001b[43mtrain_num\u001b[49m\u001b[43m,\u001b[49m\u001b[43m \u001b[49m\u001b[43mmode\u001b[49m\u001b[43m,\u001b[49m\u001b[43m \u001b[49m\u001b[43mnum_rows\u001b[49m\u001b[43m,\u001b[49m\u001b[43m \u001b[49m\u001b[43mgenerated_coefficients\u001b[49m\u001b[43m)\u001b[49m\n\u001b[1;32m     68\u001b[0m     test_dataset \u001b[38;5;241m=\u001b[39m make_dataset(test_num, mode, num_rows, generated_coefficients)\n\u001b[1;32m     69\u001b[0m     directory \u001b[38;5;241m=\u001b[39m \u001b[38;5;124mf\u001b[39m\u001b[38;5;124m\"\u001b[39m\u001b[38;5;124m../data/\u001b[39m\u001b[38;5;132;01m{\u001b[39;00mdataset_name\u001b[38;5;132;01m}\u001b[39;00m\u001b[38;5;124m-\u001b[39m\u001b[38;5;132;01m{\u001b[39;00mmode\u001b[38;5;132;01m}\u001b[39;00m\u001b[38;5;124m\"\u001b[39m\n",
      "File \u001b[0;32m~/vscode/ibl-tuning/notebook/../src/ibltuning/ibldataset/ibldataset.py:22\u001b[0m, in \u001b[0;36mmake_dataset\u001b[0;34m(num_data, mode, num_rows, generated_coefficients)\u001b[0m\n\u001b[1;32m     20\u001b[0m     str_data \u001b[38;5;241m=\u001b[39m df_to_string(processing, num_rows)\n\u001b[1;32m     21\u001b[0m \u001b[38;5;28;01melif\u001b[39;00m mode \u001b[38;5;241m==\u001b[39m \u001b[38;5;124m'\u001b[39m\u001b[38;5;124mlinear\u001b[39m\u001b[38;5;124m'\u001b[39m:\n\u001b[0;32m---> 22\u001b[0m     processing, str_data, generated_coefficients \u001b[38;5;241m=\u001b[39m \u001b[43mlinear_dataset\u001b[49m\u001b[43m(\u001b[49m\u001b[43mnum_rows\u001b[49m\u001b[43m,\u001b[49m\u001b[43m \u001b[49m\u001b[43mgenerated_coefficients\u001b[49m\u001b[43m)\u001b[49m\n\u001b[1;32m     23\u001b[0m \u001b[38;5;28;01melif\u001b[39;00m mode \u001b[38;5;241m==\u001b[39m \u001b[38;5;124m'\u001b[39m\u001b[38;5;124mbranch\u001b[39m\u001b[38;5;124m'\u001b[39m:\n\u001b[1;32m     24\u001b[0m     \u001b[38;5;66;03m#processing = branch_model()\u001b[39;00m\n\u001b[1;32m     25\u001b[0m     \u001b[38;5;66;03m#str_data = df_to_string(processing, num_rows)\u001b[39;00m\n\u001b[1;32m     26\u001b[0m     processing, str_data \u001b[38;5;241m=\u001b[39m branch_dataset(num_rows)\n",
      "File \u001b[0;32m~/vscode/ibl-tuning/notebook/../src/ibltuning/ibldataset/lineardataset.py:37\u001b[0m, in \u001b[0;36mlinear_dataset\u001b[0;34m(num_rows, generated_coefficients)\u001b[0m\n\u001b[1;32m     35\u001b[0m data_1000 \u001b[38;5;241m=\u001b[39m data_1500 \u001b[38;5;241m=\u001b[39m \u001b[38;5;28;01mNone\u001b[39;00m\n\u001b[1;32m     36\u001b[0m \u001b[38;5;28;01mwhile\u001b[39;00m \u001b[38;5;28;01mTrue\u001b[39;00m:\n\u001b[0;32m---> 37\u001b[0m     processing, coef_A, coef_B, coef_C, generated_coefficients \u001b[38;5;241m=\u001b[39m \u001b[43mlinear_model\u001b[49m\u001b[43m(\u001b[49m\u001b[43mgenerated_coefficients\u001b[49m\u001b[43m)\u001b[49m\n\u001b[1;32m     38\u001b[0m     \u001b[38;5;28;01mfor\u001b[39;00m total_data \u001b[38;5;129;01min\u001b[39;00m [\u001b[38;5;241m1000\u001b[39m, \u001b[38;5;241m1500\u001b[39m]:\n\u001b[1;32m     39\u001b[0m         data \u001b[38;5;241m=\u001b[39m find_data(coef_A, coef_B, coef_C, total\u001b[38;5;241m=\u001b[39mtotal_data)\n",
      "File \u001b[0;32m~/vscode/ibl-tuning/notebook/../src/ibltuning/ibldataset/lineardataset.py:8\u001b[0m, in \u001b[0;36mlinear_model\u001b[0;34m(generated_coefficients)\u001b[0m\n\u001b[1;32m      6\u001b[0m \u001b[38;5;28;01mdef\u001b[39;00m \u001b[38;5;21mlinear_model\u001b[39m(generated_coefficients):\n\u001b[1;32m      7\u001b[0m     \u001b[38;5;28;01mwhile\u001b[39;00m \u001b[38;5;28;01mTrue\u001b[39;00m:\n\u001b[0;32m----> 8\u001b[0m         coef_A \u001b[38;5;241m=\u001b[39m \u001b[43mrandom\u001b[49m\u001b[38;5;241;43m.\u001b[39;49m\u001b[43mrandint\u001b[49m\u001b[43m(\u001b[49m\u001b[38;5;241;43m1\u001b[39;49m\u001b[43m,\u001b[49m\u001b[43m \u001b[49m\u001b[38;5;241;43m20\u001b[39;49m\u001b[43m)\u001b[49m\n\u001b[1;32m      9\u001b[0m         coef_B \u001b[38;5;241m=\u001b[39m random\u001b[38;5;241m.\u001b[39mrandint(\u001b[38;5;241m1\u001b[39m, \u001b[38;5;241m20\u001b[39m)\n\u001b[1;32m     10\u001b[0m         coef_C \u001b[38;5;241m=\u001b[39m random\u001b[38;5;241m.\u001b[39mrandint(\u001b[38;5;241m1\u001b[39m, \u001b[38;5;241m20\u001b[39m)\n",
      "File \u001b[0;32m/opt/homebrew/Cellar/python@3.9/3.9.18/Frameworks/Python.framework/Versions/3.9/lib/python3.9/random.py:338\u001b[0m, in \u001b[0;36mRandom.randint\u001b[0;34m(self, a, b)\u001b[0m\n\u001b[1;32m    334\u001b[0m \u001b[38;5;28;01mdef\u001b[39;00m \u001b[38;5;21mrandint\u001b[39m(\u001b[38;5;28mself\u001b[39m, a, b):\n\u001b[1;32m    335\u001b[0m \u001b[38;5;250m    \u001b[39m\u001b[38;5;124;03m\"\"\"Return random integer in range [a, b], including both end points.\u001b[39;00m\n\u001b[1;32m    336\u001b[0m \u001b[38;5;124;03m    \"\"\"\u001b[39;00m\n\u001b[0;32m--> 338\u001b[0m     \u001b[38;5;28;01mreturn\u001b[39;00m \u001b[38;5;28;43mself\u001b[39;49m\u001b[38;5;241;43m.\u001b[39;49m\u001b[43mrandrange\u001b[49m\u001b[43m(\u001b[49m\u001b[43ma\u001b[49m\u001b[43m,\u001b[49m\u001b[43m \u001b[49m\u001b[43mb\u001b[49m\u001b[38;5;241;43m+\u001b[39;49m\u001b[38;5;241;43m1\u001b[39;49m\u001b[43m)\u001b[49m\n",
      "File \u001b[0;32m/opt/homebrew/Cellar/python@3.9/3.9.18/Frameworks/Python.framework/Versions/3.9/lib/python3.9/random.py:309\u001b[0m, in \u001b[0;36mRandom.randrange\u001b[0;34m(self, start, stop, step)\u001b[0m\n\u001b[1;32m    306\u001b[0m     \u001b[38;5;28;01mraise\u001b[39;00m \u001b[38;5;167;01mValueError\u001b[39;00m(\u001b[38;5;124m\"\u001b[39m\u001b[38;5;124mempty range for randrange()\u001b[39m\u001b[38;5;124m\"\u001b[39m)\n\u001b[1;32m    308\u001b[0m \u001b[38;5;66;03m# stop argument supplied.\u001b[39;00m\n\u001b[0;32m--> 309\u001b[0m istop \u001b[38;5;241m=\u001b[39m \u001b[38;5;28;43mint\u001b[39;49m\u001b[43m(\u001b[49m\u001b[43mstop\u001b[49m\u001b[43m)\u001b[49m\n\u001b[1;32m    310\u001b[0m \u001b[38;5;28;01mif\u001b[39;00m istop \u001b[38;5;241m!=\u001b[39m stop:\n\u001b[1;32m    311\u001b[0m     \u001b[38;5;28;01mraise\u001b[39;00m \u001b[38;5;167;01mValueError\u001b[39;00m(\u001b[38;5;124m\"\u001b[39m\u001b[38;5;124mnon-integer stop for randrange()\u001b[39m\u001b[38;5;124m\"\u001b[39m)\n",
      "\u001b[0;31mKeyboardInterrupt\u001b[0m: "
     ]
    }
   ],
   "source": [
    "train_num = 10000 # 学習データの行数\n",
    "test_num = 1000 # テストデータの行数\n",
    "num_rows = 200  # 一つの学習データに含まれているデータ数\n",
    "#mode = 'mix'\n",
    "mode = 'linear'\n",
    "#mode = 'branch'\n",
    "#mode = 'branch_easy'\n",
    "#mode = 'all'\n",
    "dataset_name = 'ibl-regression-ver3'\n",
    "\n",
    "ibldataset.execution(train_num, test_num, num_rows, mode, dataset_name)"
   ]
  },
  {
   "cell_type": "code",
   "execution_count": null,
   "metadata": {},
   "outputs": [],
   "source": [
    "dataset_name = 'ibl-ver1'\n",
    "dataset = load_dataset(f\"fuyu-quant/{dataset_name}\", split='train')"
   ]
  },
  {
   "cell_type": "code",
   "execution_count": 8,
   "metadata": {},
   "outputs": [],
   "source": [
    "dataset_dict = DatasetDict({'train': dataset})"
   ]
  },
  {
   "cell_type": "code",
   "execution_count": 9,
   "metadata": {},
   "outputs": [
    {
     "data": {
      "text/plain": [
       "DatasetDict({\n",
       "    train: Dataset({\n",
       "        features: ['instruction', 'output', 'index', 'category'],\n",
       "        num_rows: 10000\n",
       "    })\n",
       "})"
      ]
     },
     "execution_count": 9,
     "metadata": {},
     "output_type": "execute_result"
    }
   ],
   "source": [
    "dataset_dict"
   ]
  },
  {
   "cell_type": "code",
   "execution_count": 7,
   "metadata": {},
   "outputs": [
    {
     "data": {
      "text/plain": [
       "{'instruction': ' A  B  C   y\\n19 16  1 197\\n13 16 15 155\\n 9 15  1 123\\n12 20 19 164\\n11 15 10 137\\n13 13  6 143\\n20 15  8 200\\n 0  6 20  24\\n 0 13  2  52\\n 5 16 18  99\\n 0 15 16  60\\n 5  8 14  67\\n12 16  8 148\\n15  9 17 141\\n 8  0  0  56\\n 0  0  9   0\\n15  0 14 105\\n18  1 15 130\\n 0 14  8  56\\n11  2  5  85\\n 2 12  3  62\\n15 10  6 145\\n19  9  7 169\\n17  3 14 131\\n 1 10  1  47\\n 2 15 11  74\\n 7 12 16  97\\n 1 17  6  75\\n13 20 16 171\\n 0  2 17   8\\n 2 20 19  94\\n18  8 14 158\\n10 14 15 126\\n 3 14 18  77\\n15 20 18 185\\n19 13 17 185\\n 0  1  2   4\\n13  5 10 111\\n 3  9 18  57\\n14  3  8 110\\n17  0  4 119\\n19 11  9 177\\n12 20 19 164\\n14  5 14 118\\n14 13 12 150\\n 3 19 13  97\\n16 18  3 184\\n 0  6 18  24\\n 2 16 13  78\\n14  7 11 126\\n18  3  7 138\\n 6  2  6  50\\n 2  6 13  38\\n19 12 10 181\\n 6 18  1 114\\n 4  7  4  56\\n 6 17  3 110\\n20  8  3 172\\n14  0  2  98\\n17 20 14 199\\n17 15  6 179\\n 5  5 16  55\\n 6  5 10  62\\n 4 12  2  76\\n 7 15 18 109\\n 9 19  4 139\\n 6  7 17  70\\n 3  2  9  29\\n19  7 17 161\\n19  7  0 161\\n 0 20  2  80\\n 5  8 19  67\\n17  2 15 127\\n 2  4  3  30\\n 2  6 13  38\\n 2  8 20  46\\n 6  1 20  46\\n16 17  0 180\\n18  3  8 138\\n 2 17 13  82\\n 1  0 12   7\\n 0 17  5  68\\n11 11 19 121\\n 7 14 16 105\\n10 10  4 110\\n 5 10 15  75\\n 9  5 11  83\\n18  3  2 138\\n13  7 13 119\\n11 13 10 129\\n 4 14  1  84\\n 1 11  9  51\\n 7  7 14  77\\n14 12  1 146\\n 4 16  7  92\\n17 13 20 171\\n 1 18 14  79\\n10 18 11 142\\n 1 15 11  67\\n15 18 18 177',\n",
       " 'output': 'y = 7*row[\"A\"] + 4*row[\"B\"] + 0*row[\"C\"]',\n",
       " 'index': 0,\n",
       " 'category': 'regression'}"
      ]
     },
     "execution_count": 7,
     "metadata": {},
     "output_type": "execute_result"
    }
   ],
   "source": [
    "dataset['train'][0]"
   ]
  },
  {
   "cell_type": "code",
   "execution_count": 9,
   "metadata": {},
   "outputs": [
    {
     "data": {
      "text/plain": [
       "' A  B  C   y\\n 4 16  8 176\\n 7 13  6 141\\n14  0 19  76\\n14 15 19 211\\n20 16  3 156\\n 6 18 15 222\\n14  0  4  16\\n12  1  7  37\\n18 15  0 135\\n 5  4 13  88\\n14  4 16 100\\n 7 17 14 209\\n13  4  8  68\\n 2 12  4 124\\n 6 18 11 206\\n 1 19 13 223\\n12  0 16  64\\n17 15  6 159\\n19 15 11 179\\n 1  4  9  72\\n12  3 10  67\\n 1 19 18 243\\n 2 18 17 230\\n 2  7 15 123\\n19  9  6 105\\n 9 18  8 194\\n 5 11 19 175\\n10 14  9 162\\n 8 15  8 167\\n 4 13 10 157\\n19  8 13 124\\n 5 19 17 239\\n 3 10 10 130\\n13 13 20 197\\n16  8 10 112\\n14 13 18 189\\n 6 14 20 206\\n19  1  5  29\\n19 16 12 192\\n18  1 19  85\\n10 14  4 142\\n12 19  9 207\\n12  9 16 145\\n20  3  2  35\\n19 15  8 167\\n17 15  3 147\\n11 14 10 166\\n 1  8  6  96\\n 3  3 19 103\\n 4 18 18 234\\n19 20  2 188\\n19 16  4 160\\n 4 15  3 147\\n10 19  4 187\\n 5  7 19 139\\n15 19 17 239\\n 5  2  6  42\\n 1  0 16  64\\n18  4  9  72\\n19 15  9 171\\n 8  5 12  93\\n 8  4 11  80\\n12  4  0  36\\n16  2 13  70\\n11 11  3 111\\n 7 12 14 164\\n12  1  9  45\\n20  3  9  63\\n 0 11  7 127\\n 4  3  6  51\\n 2  8 14 128\\n20 11 20 179\\n 6 20  2 188\\n20 20  0 180\\n10 15  8 167\\n 9  1 20  89\\n 1  7  5  83\\n19  5 13  97\\n18 10  8 122\\n10  7  8  95\\n11  5  8  77\\n 0 12 10 148\\n17 18 14 218\\n 6 18 16 226\\n 0  0 14  56\\n16 15 13 187\\n15  7  1  67\\n 0  6  7  82\\n12 10  1  94\\n10  4  6  60\\n17 15  6 159\\n 8  4  0  36\\n18  7 14 119\\n19 11  2 107\\n20 10 10 130\\n 9 14 13 178\\n10 11  0  99\\n16 12 20 188\\n 8 17 16 217\\n 5 19 13 223'"
      ]
     },
     "execution_count": 9,
     "metadata": {},
     "output_type": "execute_result"
    }
   ],
   "source": [
    "dataset[1]['instruction']"
   ]
  },
  {
   "cell_type": "code",
   "execution_count": 10,
   "metadata": {},
   "outputs": [
    {
     "data": {
      "text/plain": [
       "'y = 0*row[\"A\"] + 9*row[\"B\"] + 4*row[\"C\"]'"
      ]
     },
     "execution_count": 10,
     "metadata": {},
     "output_type": "execute_result"
    }
   ],
   "source": [
    "dataset[1]['output']"
   ]
  },
  {
   "cell_type": "markdown",
   "metadata": {},
   "source": [
    "## Test"
   ]
  },
  {
   "cell_type": "code",
   "execution_count": null,
   "metadata": {},
   "outputs": [],
   "source": [
    "from src.ibldataset.codemodel import branch_easy\n",
    "from src.ibldataset.psuedodata import data_to_string"
   ]
  },
  {
   "cell_type": "code",
   "execution_count": 12,
   "metadata": {},
   "outputs": [
    {
     "data": {
      "text/plain": [
       "' A  B  C  y\\n 0 10 16 17\\n20 20 11  3\\n 3 16  3 17\\n 7 17  5 17\\n 3  1  5 17\\n 7  0 16 17\\n10 19  8  3\\n 9  3  7 17\\n18 14 19  3\\n13 14 16  3\\n 3 19 14 17\\n14 18  8  3\\n 2  6 10 17\\n10 19  4  3\\n 9 17 18 17\\n 7 17  6 17\\n 1 14  8 17\\n16 14  6  3\\n20  9  6  3\\n14 19  6  3\\n 2 16  4 17\\n 6  8  2 17\\n 0 12  9 17\\n 1 19  0 17\\n 1  6  4 17\\n 0  0  0 17\\n 6  4  4 17\\n 1  6  6 17\\n 2 20 17 17\\n12  2 17  3\\n 6  4 20 17\\n 0 19  8 17\\n 9  3 17 17\\n 5  9 19 17\\n 0 14  4 17\\n 9 19  0 17\\n20  3 20  3\\n13  9 14  3\\n 9 20  2 17\\n11 12  1  3\\n20  9  0  3\\n 5 20  6 17\\n 5  3 12 17\\n11  1  0  3\\n 9  5  3 17\\n17  9 10  3\\n 5 13  9 17\\n18  7 10  3\\n10  1  9  3\\n 2 17  9 17\\n12 10  7  3\\n15  9  8  3\\n16 12  2  3\\n 7  7  6 17\\n 3 16  1 17\\n19 13  6  3\\n 1  9 12 17\\n 3  4 11 17\\n 5  3 19 17\\n 6 15  4 17\\n 6  3 17 17\\n20 19 11  3\\n19 13 13  3\\n 7  7  1 17\\n15 15  9  3\\n16  4  9  3\\n 8 19  3 17\\n 3  0  6 17\\n19  3 14  3\\n12 16 20  3\\n11 10  9  3\\n12  4  3  3\\n18  8  8  3\\n 9  3  7 17\\n20  4  3  3\\n 9  5  0 17\\n 6  1  8 17\\n 0 13  3 17\\n 3 11 16 17\\n11 11 15  3\\n 8  5  1 17\\n 1 19  2 17\\n 4  5 11 17\\n 2 14 16 17\\n17  2  0  3\\n15  6  2  3\\n13 10  4  3\\n13  6 19  3\\n 1  9  4 17\\n 5  3 14 17\\n 4 15 15 17\\n20 11 19  3\\n16 12  1  3\\n15  9 10  3\\n12 16 20  3\\n14 19  7  3\\n 9  8  5 17\\n 0  1 17 17\\n 3  1 15 17\\n 8  4  3 17'"
      ]
     },
     "execution_count": 12,
     "metadata": {},
     "output_type": "execute_result"
    }
   ],
   "source": [
    "code = branch_easy.branch_easy_model()\n",
    "str_data = data_to_string(code, num_rows = 100)\n",
    "str_data"
   ]
  },
  {
   "cell_type": "code",
   "execution_count": null,
   "metadata": {},
   "outputs": [],
   "source": []
  }
 ],
 "metadata": {
  "kernelspec": {
   "display_name": "Python 3.11.5 64-bit",
   "language": "python",
   "name": "python3"
  },
  "language_info": {
   "codemirror_mode": {
    "name": "ipython",
    "version": 3
   },
   "file_extension": ".py",
   "mimetype": "text/x-python",
   "name": "python",
   "nbconvert_exporter": "python",
   "pygments_lexer": "ipython3",
   "version": "3.9.18"
  },
  "orig_nbformat": 4,
  "vscode": {
   "interpreter": {
    "hash": "b0fa6594d8f4cbf19f97940f81e996739fb7646882a419484c72d19e05852a7e"
   }
  }
 },
 "nbformat": 4,
 "nbformat_minor": 2
}
