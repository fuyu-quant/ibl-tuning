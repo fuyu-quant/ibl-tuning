{
 "cells": [
  {
   "cell_type": "markdown",
   "metadata": {},
   "source": [
    "* 文字列データを表形式データに変換するコード\n",
    "* 出力されたコードをコードモデルに組み込むコード"
   ]
  },
  {
   "cell_type": "code",
   "execution_count": 3,
   "metadata": {},
   "outputs": [],
   "source": [
    "import sys\n",
    "sys.path.append('..')\n",
    "\n",
    "from src.ibldataset.psuedodata import jinja_rendering, df_to_string\n",
    "\n",
    "from datasets import load_dataset\n",
    "\n",
    "dataset_name = 'ibl-regression-ver2-linear'"
   ]
  },
  {
   "cell_type": "code",
   "execution_count": 7,
   "metadata": {},
   "outputs": [],
   "source": [
    "code = \"\"\"\n",
    "if row[\"B\"] < 18:\n",
    "    y = 8*row[\"C\"]\n",
    "else:\n",
    "    y = 4*row[\"C\"]\n",
    "\"\"\""
   ]
  },
  {
   "cell_type": "code",
   "execution_count": null,
   "metadata": {},
   "outputs": [],
   "source": [
    "def predict(x):\n",
    "    df = x.copy()\n",
    "    output = []\n",
    "    for index, row in df.iterrows():\n",
    "        y = 2*row[\"A\"] + 0*row[\"B\"] + 10*row[\"C\"]\n",
    "        output.append(y)\n",
    "    return np.array(output)"
   ]
  },
  {
   "cell_type": "code",
   "execution_count": 8,
   "metadata": {},
   "outputs": [
    {
     "name": "stdout",
     "output_type": "stream",
     "text": [
      "def predict(x):\n",
      "    df = x.copy()\n",
      "    output = []\n",
      "    for index, row in df.iterrows():\n",
      "        \n",
      "        if row[\"B\"] < 18:\n",
      "            y = 8*row[\"C\"]\n",
      "        else:\n",
      "            y = 4*row[\"C\"]\n",
      "        \n",
      "        output.append(y)\n",
      "    return np.array(output)\n"
     ]
    }
   ],
   "source": [
    "code_model = jinja_rendering(code)\n",
    "print(code_model)"
   ]
  },
  {
   "cell_type": "code",
   "execution_count": 9,
   "metadata": {},
   "outputs": [],
   "source": [
    "test_dataset = load_dataset(f\"fuyu-quant/{dataset_name}\", split='test')"
   ]
  },
  {
   "cell_type": "code",
   "execution_count": 10,
   "metadata": {},
   "outputs": [],
   "source": [
    "i = 1\n",
    "data_str = test_dataset[i]['instruction']"
   ]
  },
  {
   "cell_type": "code",
   "execution_count": null,
   "metadata": {},
   "outputs": [],
   "source": [
    "def ibl_output(model, input):\n",
    "    prompt = f\"### Instruction: {input}\\n\\n### Response: \"\n",
    "\n",
    "    # 推論の実行\n",
    "    inputs = tokenizer(prompt, return_tensors=\"pt\").to(\"cuda:0\")\n",
    "    with torch.no_grad():\n",
    "        outputs = model.generate(\n",
    "            **inputs,\n",
    "            max_new_tokens=100\n",
    "            )\n",
    "    output = tokenizer.decode(outputs[0], skip_special_tokens=True)\n",
    "    output = output.split(\"### Response: \")[-1]\n",
    "    return output"
   ]
  },
  {
   "cell_type": "code",
   "execution_count": 11,
   "metadata": {},
   "outputs": [],
   "source": [
    "import pandas as pd\n",
    "import numpy as np\n",
    "\n",
    "def str_to_df(data_str):\n",
    "    lines = data_str.split('\\n')\n",
    "    data = [line.split() for line in lines]\n",
    "    df = pd.DataFrame(data[1:], columns=data[0])\n",
    "    df = df.astype(int)\n",
    "    return df\n",
    "\n",
    "def code_model_pred(df, code_model):\n",
    "    df = df.drop(['y'], axis=1)\n",
    "    local_vars = {}\n",
    "    exec(code_model, globals(), local_vars)\n",
    "    df['y'] = local_vars['predict'](df)\n",
    "    return df"
   ]
  },
  {
   "cell_type": "code",
   "execution_count": 12,
   "metadata": {},
   "outputs": [],
   "source": [
    "df = str_to_df(data_str)\n",
    "pred_df = code_model_pred(df, code_model)\n",
    "str_df = pred_df.to_string(index=False)\n",
    "str_df"
   ]
  },
  {
   "cell_type": "code",
   "execution_count": 16,
   "metadata": {},
   "outputs": [],
   "source": [
    "import random"
   ]
  },
  {
   "cell_type": "code",
   "execution_count": 17,
   "metadata": {},
   "outputs": [],
   "source": [
    "import random\n",
    "\n",
    "def linear_model():\n",
    "    processing = ''\n",
    "\n",
    "    coef_A = random.randint(0, 10)\n",
    "    coef_B = random.randint(0, 10)\n",
    "    coef_C = random.randint(0, 10)\n",
    "    processing += f'y = {coef_A}*row[\"A\"] + {coef_B}*row[\"B\"] + {coef_C}*row[\"C\"]'\n",
    "\n",
    "    return processing, coef_A, coef_B, coef_C\n",
    "\n",
    "\n",
    "def find_solutions(coef_A, coef_B, coef_C, total=1500):\n",
    "    solutions = []\n",
    "    for c in range(total // 5 + 1):\n",
    "        for b in range((total - 5 * c) // 3 + 1):\n",
    "            a = (total - 5 * c - 3 * b) // 2\n",
    "            if coef_A * a + coef_B * b + coef_C* c == total:\n",
    "                solutions.append([a, b, c, total])\n",
    "    return solutions\n",
    "\n",
    "def generate_data(num_rows):\n",
    "    processing, coef_A, coef_B, coef_C = linear_model()\n",
    "    sample_size = num_rows / 2\n",
    "    data_1000 = find_solutions(coef_A, coef_B, coef_C, total=1500)\n",
    "    data_1000 = random.sample(data_1000, sample_size)\n",
    "    data_1500 = find_solutions(coef_A, coef_B, coef_C, total=1000)\n",
    "    data_1500 = random.sample(data_1500, sample_size)\n",
    "    data = data_1000 + data_1500\n",
    "    random.shuffle(data)\n",
    "    df = pd.DataFrame(data, columns=['A', 'B', 'C', 'y'])\n",
    "    str_df = df.to_string(index=False)\n",
    "    return processing, str_df"
   ]
  },
  {
   "cell_type": "code",
   "execution_count": 20,
   "metadata": {},
   "outputs": [],
   "source": [
    "solution_list = find_solutions()\n",
    "sample_size = 50\n",
    "solutions = random.sample(solution_list, sample_size)"
   ]
  },
  {
   "cell_type": "code",
   "execution_count": 21,
   "metadata": {},
   "outputs": [
    {
     "data": {
      "text/plain": [
       "[[242, 162, 6],\n",
       " [97, 162, 64],\n",
       " [51, 121, 107],\n",
       " [244, 79, 55],\n",
       " [212, 57, 81],\n",
       " [280, 120, 16],\n",
       " [357, 37, 35],\n",
       " [218, 8, 108],\n",
       " [224, 14, 102],\n",
       " [62, 212, 48],\n",
       " [27, 312, 2],\n",
       " [161, 211, 9],\n",
       " [76, 226, 34],\n",
       " [178, 123, 55],\n",
       " [270, 10, 86],\n",
       " [143, 33, 123],\n",
       " [50, 265, 21],\n",
       " [393, 13, 35],\n",
       " [344, 39, 39],\n",
       " [114, 109, 89],\n",
       " [250, 15, 91],\n",
       " [15, 45, 167],\n",
       " [125, 65, 111],\n",
       " [92, 242, 18],\n",
       " [350, 75, 15],\n",
       " [168, 3, 131],\n",
       " [176, 71, 87],\n",
       " [221, 161, 15],\n",
       " [335, 70, 24],\n",
       " [52, 297, 1],\n",
       " [53, 128, 102],\n",
       " [190, 25, 109],\n",
       " [156, 1, 137],\n",
       " [270, 25, 77],\n",
       " [184, 79, 79],\n",
       " [287, 92, 30],\n",
       " [233, 93, 51],\n",
       " [82, 52, 136],\n",
       " [371, 56, 18],\n",
       " [173, 103, 69],\n",
       " [209, 189, 3],\n",
       " [216, 106, 50],\n",
       " [56, 191, 63],\n",
       " [85, 105, 103],\n",
       " [63, 198, 56],\n",
       " [194, 149, 33],\n",
       " [300, 60, 44],\n",
       " [37, 22, 172],\n",
       " [318, 78, 26],\n",
       " [38, 308, 0]]"
      ]
     },
     "execution_count": 21,
     "metadata": {},
     "output_type": "execute_result"
    }
   ],
   "source": [
    "solutions"
   ]
  },
  {
   "cell_type": "code",
   "execution_count": null,
   "metadata": {},
   "outputs": [],
   "source": []
  }
 ],
 "metadata": {
  "kernelspec": {
   "display_name": "Python 3.9.18 ('.venv': poetry)",
   "language": "python",
   "name": "python3"
  },
  "language_info": {
   "codemirror_mode": {
    "name": "ipython",
    "version": 3
   },
   "file_extension": ".py",
   "mimetype": "text/x-python",
   "name": "python",
   "nbconvert_exporter": "python",
   "pygments_lexer": "ipython3",
   "version": "3.9.18"
  },
  "orig_nbformat": 4,
  "vscode": {
   "interpreter": {
    "hash": "fdfbc8575a58203f91f4af2e80561d1afbbaa8073c4fae1793e0bd6a10c5af7a"
   }
  }
 },
 "nbformat": 4,
 "nbformat_minor": 2
}
