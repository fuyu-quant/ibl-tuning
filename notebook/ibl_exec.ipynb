{
 "cells": [
  {
   "cell_type": "markdown",
   "metadata": {},
   "source": [
    "* 文字列データを表形式データに変換するコード\n",
    "* 出力されたコードをコードモデルに組み込むコード"
   ]
  },
  {
   "cell_type": "code",
   "execution_count": 3,
   "metadata": {},
   "outputs": [],
   "source": [
    "import sys\n",
    "sys.path.append('..')\n",
    "\n",
    "from src.ibldataset.psuedodata import jinja_rendering, df_to_string\n",
    "\n",
    "from datasets import load_dataset\n",
    "\n",
    "dataset_name = 'ibl-regression-ver2-linear'"
   ]
  },
  {
   "cell_type": "code",
   "execution_count": 7,
   "metadata": {},
   "outputs": [],
   "source": [
    "code = \"\"\"\n",
    "if row[\"B\"] < 18:\n",
    "    y = 8*row[\"C\"]\n",
    "else:\n",
    "    y = 4*row[\"C\"]\n",
    "\"\"\""
   ]
  },
  {
   "cell_type": "code",
   "execution_count": 8,
   "metadata": {},
   "outputs": [
    {
     "name": "stdout",
     "output_type": "stream",
     "text": [
      "def predict(x):\n",
      "    df = x.copy()\n",
      "    output = []\n",
      "    for index, row in df.iterrows():\n",
      "        \n",
      "        if row[\"B\"] < 18:\n",
      "            y = 8*row[\"C\"]\n",
      "        else:\n",
      "            y = 4*row[\"C\"]\n",
      "        \n",
      "        output.append(y)\n",
      "    return np.array(output)\n"
     ]
    }
   ],
   "source": [
    "code_model = jinja_rendering(code)\n",
    "print(code_model)"
   ]
  },
  {
   "cell_type": "code",
   "execution_count": 9,
   "metadata": {},
   "outputs": [],
   "source": [
    "test_dataset = load_dataset(f\"fuyu-quant/{dataset_name}\", split='test')"
   ]
  },
  {
   "cell_type": "code",
   "execution_count": 10,
   "metadata": {},
   "outputs": [],
   "source": [
    "i = 1\n",
    "data_str = test_dataset[i]['instruction']"
   ]
  },
  {
   "cell_type": "code",
   "execution_count": null,
   "metadata": {},
   "outputs": [],
   "source": [
    "def ibl_output(model, input):\n",
    "    prompt = f\"### Instruction: {input}\\n\\n### Response: \"\n",
    "\n",
    "    # 推論の実行\n",
    "    inputs = tokenizer(prompt, return_tensors=\"pt\").to(\"cuda:0\")\n",
    "    with torch.no_grad():\n",
    "        outputs = model.generate(\n",
    "            **inputs,\n",
    "            max_new_tokens=100\n",
    "            )\n",
    "    output = tokenizer.decode(outputs[0], skip_special_tokens=True)\n",
    "    output = output.split(\"### Response: \")[-1]\n",
    "    return output"
   ]
  },
  {
   "cell_type": "code",
   "execution_count": 11,
   "metadata": {},
   "outputs": [],
   "source": [
    "import pandas as pd\n",
    "import numpy as np\n",
    "\n",
    "def str_to_df(data_str):\n",
    "    lines = data_str.split('\\n')\n",
    "    data = [line.split() for line in lines]\n",
    "    df = pd.DataFrame(data[1:], columns=data[0])\n",
    "    df = df.astype(int)\n",
    "    return df\n",
    "\n",
    "def code_model_pred(df, code_model):\n",
    "    df = df.drop(['y'], axis=1)\n",
    "    local_vars = {}\n",
    "    exec(code_model, globals(), local_vars)\n",
    "    df['y'] = local_vars['predict'](df)\n",
    "    return df"
   ]
  },
  {
   "cell_type": "code",
   "execution_count": 12,
   "metadata": {},
   "outputs": [],
   "source": [
    "df = str_to_df(data_str)\n",
    "pred_df = code_model_pred(df, code_model)\n",
    "str_df = pred_df.to_string(index=False)\n",
    "str_df"
   ]
  },
  {
   "cell_type": "code",
   "execution_count": null,
   "metadata": {},
   "outputs": [],
   "source": []
  }
 ],
 "metadata": {
  "kernelspec": {
   "display_name": "Python 3.9.18 ('.venv': poetry)",
   "language": "python",
   "name": "python3"
  },
  "language_info": {
   "codemirror_mode": {
    "name": "ipython",
    "version": 3
   },
   "file_extension": ".py",
   "mimetype": "text/x-python",
   "name": "python",
   "nbconvert_exporter": "python",
   "pygments_lexer": "ipython3",
   "version": "3.9.18"
  },
  "orig_nbformat": 4,
  "vscode": {
   "interpreter": {
    "hash": "fdfbc8575a58203f91f4af2e80561d1afbbaa8073c4fae1793e0bd6a10c5af7a"
   }
  }
 },
 "nbformat": 4,
 "nbformat_minor": 2
}
