{
 "cells": [
  {
   "cell_type": "code",
   "execution_count": 2,
   "metadata": {},
   "outputs": [
    {
     "name": "stdout",
     "output_type": "stream",
     "text": [
      "Token will not been saved to git credential helper. Pass `add_to_git_credential=True` if you want to set the git credential as well.\n",
      "Token is valid (permission: write).\n",
      "Your token has been saved to /Users/tanakatouma/.cache/huggingface/token\n",
      "Login successful\n"
     ]
    }
   ],
   "source": [
    "import sys\n",
    "sys.path.append('..')\n",
    "import os\n",
    "from src.ibldataset import main\n",
    "from datasets import Dataset, DatasetDict, load_dataset\n",
    "\n",
    "from huggingface_hub import login\n",
    "\n",
    "login(token=os.environ['HUGGINGFACE'])"
   ]
  },
  {
   "cell_type": "code",
   "execution_count": 2,
   "metadata": {},
   "outputs": [],
   "source": [
    "# train\n",
    "num_data = 10000\n",
    "train_dataset = main.make_dataset(num_data)\n",
    "path = '../data/ibl-ver1-train.jsonl'\n",
    "main.preserve_dataset(train_dataset, path)\n",
    "\n",
    "# test\n",
    "num_data = 1000\n",
    "test_dataset = main.make_dataset(num_data)\n",
    "path = '../data/ibl-ver1-test.jsonl'\n",
    "main.preserve_dataset(test_dataset, path)\n"
   ]
  },
  {
   "cell_type": "code",
   "execution_count": 3,
   "metadata": {},
   "outputs": [
    {
     "data": {
      "application/vnd.jupyter.widget-view+json": {
       "model_id": "5d79b6afcf09432f8f8b8c0395455c3f",
       "version_major": 2,
       "version_minor": 0
      },
      "text/plain": [
       "Uploading the dataset shards:   0%|          | 0/1 [00:00<?, ?it/s]"
      ]
     },
     "metadata": {},
     "output_type": "display_data"
    },
    {
     "data": {
      "application/vnd.jupyter.widget-view+json": {
       "model_id": "5e036bc6f78d4cf29003c4b4bbeb1964",
       "version_major": 2,
       "version_minor": 0
      },
      "text/plain": [
       "Creating parquet from Arrow format:   0%|          | 0/10 [00:00<?, ?ba/s]"
      ]
     },
     "metadata": {},
     "output_type": "display_data"
    },
    {
     "data": {
      "application/vnd.jupyter.widget-view+json": {
       "model_id": "652b941811334f39b253976d08176553",
       "version_major": 2,
       "version_minor": 0
      },
      "text/plain": [
       "Uploading the dataset shards:   0%|          | 0/1 [00:00<?, ?it/s]"
      ]
     },
     "metadata": {},
     "output_type": "display_data"
    },
    {
     "data": {
      "application/vnd.jupyter.widget-view+json": {
       "model_id": "99036955434647efb44eba2d156d7287",
       "version_major": 2,
       "version_minor": 0
      },
      "text/plain": [
       "Creating parquet from Arrow format:   0%|          | 0/1 [00:00<?, ?ba/s]"
      ]
     },
     "metadata": {},
     "output_type": "display_data"
    },
    {
     "data": {
      "application/vnd.jupyter.widget-view+json": {
       "model_id": "ab7bf62061a74e089849ef93f378bcd2",
       "version_major": 2,
       "version_minor": 0
      },
      "text/plain": [
       "README.md:   0%|          | 0.00/4.80k [00:00<?, ?B/s]"
      ]
     },
     "metadata": {},
     "output_type": "display_data"
    }
   ],
   "source": [
    "train_path = '../data/ibl-ver1-train.jsonl'\n",
    "test_path = '../data/ibl-ver1-test.jsonl'\n",
    "dataset_name = 'ibl-ver1'\n",
    "main.upload_dataset(train_path, test_path, dataset_name)"
   ]
  },
  {
   "cell_type": "code",
   "execution_count": 5,
   "metadata": {},
   "outputs": [],
   "source": [
    "train_dataset = load_dataset(\"json\", data_files = train_path)"
   ]
  },
  {
   "cell_type": "code",
   "execution_count": 7,
   "metadata": {},
   "outputs": [
    {
     "data": {
      "text/plain": [
       "Dataset({\n",
       "    features: ['instruction', 'output', 'index', 'category'],\n",
       "    num_rows: 10000\n",
       "})"
      ]
     },
     "execution_count": 7,
     "metadata": {},
     "output_type": "execute_result"
    }
   ],
   "source": [
    "train_dataset['train']"
   ]
  },
  {
   "cell_type": "code",
   "execution_count": 9,
   "metadata": {},
   "outputs": [
    {
     "data": {
      "text/plain": [
       "DatasetDict({\n",
       "    train: Dataset({\n",
       "        features: ['instruction', 'output', 'index', 'category'],\n",
       "        num_rows: 1000\n",
       "    })\n",
       "})"
      ]
     },
     "execution_count": 9,
     "metadata": {},
     "output_type": "execute_result"
    }
   ],
   "source": [
    "test_dataset = load_dataset(\"json\", data_files = test_path)\n",
    "test_dataset['train']"
   ]
  },
  {
   "cell_type": "code",
   "execution_count": 4,
   "metadata": {},
   "outputs": [
    {
     "data": {
      "application/vnd.jupyter.widget-view+json": {
       "model_id": "5d4929c5ed2e42cdb9f2369985352759",
       "version_major": 2,
       "version_minor": 0
      },
      "text/plain": [
       "Downloading readme:   0%|          | 0.00/4.90k [00:00<?, ?B/s]"
      ]
     },
     "metadata": {},
     "output_type": "display_data"
    },
    {
     "data": {
      "application/vnd.jupyter.widget-view+json": {
       "model_id": "fe858339f79b4122862d7c06360a6d5b",
       "version_major": 2,
       "version_minor": 0
      },
      "text/plain": [
       "Downloading data:   0%|          | 0.00/7.48M [00:00<?, ?B/s]"
      ]
     },
     "metadata": {},
     "output_type": "display_data"
    },
    {
     "data": {
      "application/vnd.jupyter.widget-view+json": {
       "model_id": "44e951b44299416c8329ce0e0962a4ba",
       "version_major": 2,
       "version_minor": 0
      },
      "text/plain": [
       "Downloading data:   0%|          | 0.00/748k [00:00<?, ?B/s]"
      ]
     },
     "metadata": {},
     "output_type": "display_data"
    },
    {
     "data": {
      "application/vnd.jupyter.widget-view+json": {
       "model_id": "511201118c4c46688d5a6ba5b7578817",
       "version_major": 2,
       "version_minor": 0
      },
      "text/plain": [
       "Generating train split:   0%|          | 0/10000 [00:00<?, ? examples/s]"
      ]
     },
     "metadata": {},
     "output_type": "display_data"
    },
    {
     "data": {
      "application/vnd.jupyter.widget-view+json": {
       "model_id": "2acf939f8edc469eabdae7e33a0a93dc",
       "version_major": 2,
       "version_minor": 0
      },
      "text/plain": [
       "Generating test split:   0%|          | 0/1000 [00:00<?, ? examples/s]"
      ]
     },
     "metadata": {},
     "output_type": "display_data"
    }
   ],
   "source": [
    "dataset_name = 'ibl-ver1'\n",
    "dataset = main.download_dataset(dataset_name)"
   ]
  },
  {
   "cell_type": "code",
   "execution_count": 5,
   "metadata": {},
   "outputs": [
    {
     "data": {
      "text/plain": [
       "DatasetDict({\n",
       "    train: Dataset({\n",
       "        features: ['instruction', 'output', 'index', 'category'],\n",
       "        num_rows: 10000\n",
       "    })\n",
       "    test: Dataset({\n",
       "        features: ['instruction', 'output', 'index', 'category'],\n",
       "        num_rows: 1000\n",
       "    })\n",
       "})"
      ]
     },
     "execution_count": 5,
     "metadata": {},
     "output_type": "execute_result"
    }
   ],
   "source": [
    "dataset"
   ]
  },
  {
   "cell_type": "code",
   "execution_count": 7,
   "metadata": {},
   "outputs": [
    {
     "data": {
      "text/plain": [
       "{'instruction': ' A  B  C   y\\n19 16  1 197\\n13 16 15 155\\n 9 15  1 123\\n12 20 19 164\\n11 15 10 137\\n13 13  6 143\\n20 15  8 200\\n 0  6 20  24\\n 0 13  2  52\\n 5 16 18  99\\n 0 15 16  60\\n 5  8 14  67\\n12 16  8 148\\n15  9 17 141\\n 8  0  0  56\\n 0  0  9   0\\n15  0 14 105\\n18  1 15 130\\n 0 14  8  56\\n11  2  5  85\\n 2 12  3  62\\n15 10  6 145\\n19  9  7 169\\n17  3 14 131\\n 1 10  1  47\\n 2 15 11  74\\n 7 12 16  97\\n 1 17  6  75\\n13 20 16 171\\n 0  2 17   8\\n 2 20 19  94\\n18  8 14 158\\n10 14 15 126\\n 3 14 18  77\\n15 20 18 185\\n19 13 17 185\\n 0  1  2   4\\n13  5 10 111\\n 3  9 18  57\\n14  3  8 110\\n17  0  4 119\\n19 11  9 177\\n12 20 19 164\\n14  5 14 118\\n14 13 12 150\\n 3 19 13  97\\n16 18  3 184\\n 0  6 18  24\\n 2 16 13  78\\n14  7 11 126\\n18  3  7 138\\n 6  2  6  50\\n 2  6 13  38\\n19 12 10 181\\n 6 18  1 114\\n 4  7  4  56\\n 6 17  3 110\\n20  8  3 172\\n14  0  2  98\\n17 20 14 199\\n17 15  6 179\\n 5  5 16  55\\n 6  5 10  62\\n 4 12  2  76\\n 7 15 18 109\\n 9 19  4 139\\n 6  7 17  70\\n 3  2  9  29\\n19  7 17 161\\n19  7  0 161\\n 0 20  2  80\\n 5  8 19  67\\n17  2 15 127\\n 2  4  3  30\\n 2  6 13  38\\n 2  8 20  46\\n 6  1 20  46\\n16 17  0 180\\n18  3  8 138\\n 2 17 13  82\\n 1  0 12   7\\n 0 17  5  68\\n11 11 19 121\\n 7 14 16 105\\n10 10  4 110\\n 5 10 15  75\\n 9  5 11  83\\n18  3  2 138\\n13  7 13 119\\n11 13 10 129\\n 4 14  1  84\\n 1 11  9  51\\n 7  7 14  77\\n14 12  1 146\\n 4 16  7  92\\n17 13 20 171\\n 1 18 14  79\\n10 18 11 142\\n 1 15 11  67\\n15 18 18 177',\n",
       " 'output': 'y = 7*row[\"A\"] + 4*row[\"B\"] + 0*row[\"C\"]',\n",
       " 'index': 0,\n",
       " 'category': 'regression'}"
      ]
     },
     "execution_count": 7,
     "metadata": {},
     "output_type": "execute_result"
    }
   ],
   "source": [
    "dataset['train'][0]"
   ]
  },
  {
   "cell_type": "code",
   "execution_count": 9,
   "metadata": {},
   "outputs": [
    {
     "data": {
      "text/plain": [
       "' A  B  C   y\\n 4 16  8 176\\n 7 13  6 141\\n14  0 19  76\\n14 15 19 211\\n20 16  3 156\\n 6 18 15 222\\n14  0  4  16\\n12  1  7  37\\n18 15  0 135\\n 5  4 13  88\\n14  4 16 100\\n 7 17 14 209\\n13  4  8  68\\n 2 12  4 124\\n 6 18 11 206\\n 1 19 13 223\\n12  0 16  64\\n17 15  6 159\\n19 15 11 179\\n 1  4  9  72\\n12  3 10  67\\n 1 19 18 243\\n 2 18 17 230\\n 2  7 15 123\\n19  9  6 105\\n 9 18  8 194\\n 5 11 19 175\\n10 14  9 162\\n 8 15  8 167\\n 4 13 10 157\\n19  8 13 124\\n 5 19 17 239\\n 3 10 10 130\\n13 13 20 197\\n16  8 10 112\\n14 13 18 189\\n 6 14 20 206\\n19  1  5  29\\n19 16 12 192\\n18  1 19  85\\n10 14  4 142\\n12 19  9 207\\n12  9 16 145\\n20  3  2  35\\n19 15  8 167\\n17 15  3 147\\n11 14 10 166\\n 1  8  6  96\\n 3  3 19 103\\n 4 18 18 234\\n19 20  2 188\\n19 16  4 160\\n 4 15  3 147\\n10 19  4 187\\n 5  7 19 139\\n15 19 17 239\\n 5  2  6  42\\n 1  0 16  64\\n18  4  9  72\\n19 15  9 171\\n 8  5 12  93\\n 8  4 11  80\\n12  4  0  36\\n16  2 13  70\\n11 11  3 111\\n 7 12 14 164\\n12  1  9  45\\n20  3  9  63\\n 0 11  7 127\\n 4  3  6  51\\n 2  8 14 128\\n20 11 20 179\\n 6 20  2 188\\n20 20  0 180\\n10 15  8 167\\n 9  1 20  89\\n 1  7  5  83\\n19  5 13  97\\n18 10  8 122\\n10  7  8  95\\n11  5  8  77\\n 0 12 10 148\\n17 18 14 218\\n 6 18 16 226\\n 0  0 14  56\\n16 15 13 187\\n15  7  1  67\\n 0  6  7  82\\n12 10  1  94\\n10  4  6  60\\n17 15  6 159\\n 8  4  0  36\\n18  7 14 119\\n19 11  2 107\\n20 10 10 130\\n 9 14 13 178\\n10 11  0  99\\n16 12 20 188\\n 8 17 16 217\\n 5 19 13 223'"
      ]
     },
     "execution_count": 9,
     "metadata": {},
     "output_type": "execute_result"
    }
   ],
   "source": [
    "dataset[1]['instruction']"
   ]
  },
  {
   "cell_type": "code",
   "execution_count": 10,
   "metadata": {},
   "outputs": [
    {
     "data": {
      "text/plain": [
       "'y = 0*row[\"A\"] + 9*row[\"B\"] + 4*row[\"C\"]'"
      ]
     },
     "execution_count": 10,
     "metadata": {},
     "output_type": "execute_result"
    }
   ],
   "source": [
    "dataset[1]['output']"
   ]
  },
  {
   "cell_type": "code",
   "execution_count": null,
   "metadata": {},
   "outputs": [],
   "source": []
  }
 ],
 "metadata": {
  "kernelspec": {
   "display_name": "Python 3.9.18 ('.venv': poetry)",
   "language": "python",
   "name": "python3"
  },
  "language_info": {
   "codemirror_mode": {
    "name": "ipython",
    "version": 3
   },
   "file_extension": ".py",
   "mimetype": "text/x-python",
   "name": "python",
   "nbconvert_exporter": "python",
   "pygments_lexer": "ipython3",
   "version": "3.9.18"
  },
  "orig_nbformat": 4,
  "vscode": {
   "interpreter": {
    "hash": "d7ca6b84e89745352c547fff8c66fb32f34a13c3ca838a9151286656122fd656"
   }
  }
 },
 "nbformat": 4,
 "nbformat_minor": 2
}
