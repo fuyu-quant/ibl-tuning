{
 "cells": [
  {
   "cell_type": "code",
   "execution_count": 1,
   "metadata": {},
   "outputs": [
    {
     "name": "stderr",
     "output_type": "stream",
     "text": [
      "/Users/tanakatouma/vscode/ibl-dataset/.venv/lib/python3.9/site-packages/tqdm/auto.py:21: TqdmWarning: IProgress not found. Please update jupyter and ipywidgets. See https://ipywidgets.readthedocs.io/en/stable/user_install.html\n",
      "  from .autonotebook import tqdm as notebook_tqdm\n"
     ]
    }
   ],
   "source": [
    "import sys\n",
    "sys.path.append('..')\n",
    "\n",
    "#from src.ibldataset import codemodel, psuedodata\n",
    "from src.ibldataset import main"
   ]
  },
  {
   "cell_type": "code",
   "execution_count": 2,
   "metadata": {},
   "outputs": [],
   "source": [
    "dataset_dict = main.make_dataset_dict()"
   ]
  },
  {
   "cell_type": "code",
   "execution_count": 5,
   "metadata": {},
   "outputs": [
    {
     "data": {
      "text/plain": [
       "{'instruction': ' A  B  C   y\\n 4  5 14  93\\n16 13 14 169\\n 7 10 17 139\\n18 19  0 240\\n10 16  0 166\\n 8  3 15  99\\n16  9  1 168\\n 7  8 14 117\\n 7  5  6  91\\n11 11 12 167\\n15  5  7 149\\n 4  0 17  80\\n 7 17  7 165\\n 9  3 18 114\\n 7  8 20 141\\n11  5  1 109\\n11  2 14  99\\n12 18 16 190\\n 0  1  8  22\\n 0  0 11  22\\n 2 18  2 126\\n16  4  2 140\\n17  2 12 155\\n 5  0  6  47\\n 9 10  2 127\\n18 10  4 194\\n17  0  7 133\\n11  1  9 101\\n11  1 11 105\\n 9 10  5 133\\n 5  1  4  49\\n12  8 15 136\\n18 20 11 268\\n 4 13  4 114\\n10 12  5 152\\n16  9 11 188\\n 7  3 17 104\\n11 11 13 140\\n 3 18  9 147\\n11 19  0 191\\n 0 18  0 108\\n 6  7  2  88\\n 4 12 10 120\\n 3  5  4  59\\n12  7  5 136\\n 0 11 18 127\\n 7 20  1 171\\n14  6  6 146\\n 4 15 12 142\\n 4 17 12 154\\n 8  0  8  72\\n 0  7 17 103\\n 1 13  6  97\\n20 11 18 187\\n 7 18 19 187\\n17  5 10 169\\n 6 10 16 132\\n 7 14 16 155\\n 6  2 13  80\\n 1  9  7  75\\n20  9 16 169\\n17 16  2 219\\n20 15 14 191\\n16  8 18 160\\n14  7 10 160\\n11 12 15 153\\n 2  1  2  24\\n 9 18 13 169\\n19  8  8 197\\n19 15  4 231\\n 2  1  3  26\\n11  6 18 135\\n15 15 10 215\\n 2  3  9  50\\n 3  8 16 113\\n 3  0  9  39\\n 9 16 18 179\\n12  7 16 135\\n19 11 14 168\\n10  3 12 112\\n 4 10 17 130\\n12 13  4 170\\n 6 18 15 168\\n 4  5 16 101\\n16  6 18 150\\n 5  6  5  81\\n14 19 13 189\\n 6  5 18 115\\n20  6  7 190\\n 4 14  6 124\\n10 10 13 132\\n14 15  5 198\\n 8  4 17 112\\n19  4  6 169\\n17  5 20 156\\n 2  2  8  42\\n 4 18 20 182\\n11  9  5 141\\n 1 14  3  97\\n11 15  9 185',\n",
       " 'output': 'if row[\"B\"] < 19:\\n    y = 1*row[\"A\"] + 0*row[\"B\"] + 2*row[\"C\"]\\nif row[\"C\"] < 13:\\n    y = 7*row[\"A\"] + 6*row[\"B\"] + 2*row[\"C\"]\\nelse:\\n    y = 3*row[\"A\"] + 5*row[\"B\"] + 4*row[\"C\"]\\n',\n",
       " 'index': 0,\n",
       " 'category': 'regression'}"
      ]
     },
     "execution_count": 5,
     "metadata": {},
     "output_type": "execute_result"
    }
   ],
   "source": [
    "dataset_dict['test'][0]"
   ]
  },
  {
   "cell_type": "code",
   "execution_count": null,
   "metadata": {},
   "outputs": [],
   "source": []
  }
 ],
 "metadata": {
  "kernelspec": {
   "display_name": "Python 3.9.18 ('.venv': poetry)",
   "language": "python",
   "name": "python3"
  },
  "language_info": {
   "codemirror_mode": {
    "name": "ipython",
    "version": 3
   },
   "file_extension": ".py",
   "mimetype": "text/x-python",
   "name": "python",
   "nbconvert_exporter": "python",
   "pygments_lexer": "ipython3",
   "version": "3.9.18"
  },
  "orig_nbformat": 4,
  "vscode": {
   "interpreter": {
    "hash": "d7ca6b84e89745352c547fff8c66fb32f34a13c3ca838a9151286656122fd656"
   }
  }
 },
 "nbformat": 4,
 "nbformat_minor": 2
}
