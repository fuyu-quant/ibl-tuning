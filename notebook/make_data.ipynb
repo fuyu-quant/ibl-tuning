{
 "cells": [
  {
   "cell_type": "code",
   "execution_count": 1,
   "metadata": {},
   "outputs": [],
   "source": [
    "import random\n",
    "import pandas as pd\n",
    "import numpy as np\n",
    "from jinja2 import Environment, FileSystemLoader"
   ]
  },
  {
   "cell_type": "code",
   "execution_count": 82,
   "metadata": {},
   "outputs": [],
   "source": [
    "def make_if_statement(processing):\n",
    "    feature_list = ['A', 'B', 'C']\n",
    "    select_feature1 = random.choice(feature_list)\n",
    "    if_figure = random.randint(0, 10)\n",
    "    processing += f'if row[\"{select_feature1}\"] < {if_figure}:\\n'\n",
    "    coef_A = random.randint(0, 10)\n",
    "    coef_B = random.randint(0, 10)\n",
    "    coef_C = random.randint(0, 10)\n",
    "    processing += f'    y = {coef_A}*row[\"A\"] + {coef_B}*row[\"B\"] + {coef_C}*row[\"C\"]\\n'\n",
    "    return processing\n",
    "\n",
    "def make_code_model():\n",
    "    processing = ''\n",
    "\n",
    "    # 特徴量のリスト\n",
    "    feature_list = ['A', 'B', 'C']\n",
    "\n",
    "    # if文の数\n",
    "    num_if = random.randint(0, 2)\n",
    "\n",
    "    if num_if == 0:\n",
    "        coef_A = random.randint(0, 10)\n",
    "        coef_B = random.randint(0, 10)\n",
    "        coef_C = random.randint(0, 10)\n",
    "        processing += f'y = {coef_A}*row[\"A\"] + {coef_B}*row[\"B\"] + {coef_C}*row[\"C\"]'\n",
    "        return processing\n",
    "\n",
    "    elif num_if == 1:\n",
    "        # if文の条件にする特徴量\n",
    "        processing = make_if_statement(processing)\n",
    "        return processing\n",
    "\n",
    "    elif num_if == 2:\n",
    "        # if文の条件にする特徴量\n",
    "        processing = make_if_statement(processing)\n",
    "        processing = make_if_statement(processing)\n",
    "        return processing\n",
    "\n",
    "\n",
    "def jinja_rendering(processing):\n",
    "    env = Environment(loader=FileSystemLoader('/Users/tanakatouma/vscode/ibl-dataset/src/ibl-dataset'))\n",
    "    template = env.get_template('template.txt')\n",
    "    data = {'processing': processing}\n",
    "    code_model = template.render(data)\n",
    "    return code_model"
   ]
  },
  {
   "cell_type": "code",
   "execution_count": null,
   "metadata": {},
   "outputs": [],
   "source": [
    "def pseudo_data(num_rows = 100):\n",
    "\n",
    "    df = pd.DataFrame({\n",
    "        'A': np.random.randint(1, 21, size=num_rows),\n",
    "        'B': np.random.randint(1, 21, size=num_rows),\n",
    "        'C': np.random.randint(1, 21, size=num_rows)\n",
    "    })\n",
    "    return df"
   ]
  },
  {
   "cell_type": "code",
   "execution_count": null,
   "metadata": {},
   "outputs": [],
   "source": []
  },
  {
   "cell_type": "code",
   "execution_count": 92,
   "metadata": {},
   "outputs": [
    {
     "name": "stdout",
     "output_type": "stream",
     "text": [
      "y = 9*row[\"A\"] + 6*row[\"B\"] + 6*row[\"C\"]\n",
      "def predict(x):\n",
      "    df = x.copy()\n",
      "    output = []\n",
      "    for index, row in df.iterrows():\n",
      "        y = 9*row[\"A\"] + 6*row[\"B\"] + 6*row[\"C\"]\n",
      "        output.append(y)\n",
      "    return np.array(output)\n"
     ]
    }
   ],
   "source": [
    "processing = make_code_model()\n",
    "print(processing)\n",
    "code_model = jinja_rendering(processing)\n",
    "print(code_model)"
   ]
  },
  {
   "cell_type": "code",
   "execution_count": 113,
   "metadata": {},
   "outputs": [
    {
     "data": {
      "text/plain": [
       "' A  B  C   y\\n 4 15 10 186\\n20  9 15 324\\n12  8 11 222\\n 3 10  1  93\\n 9 20 15 291\\n 9 17 17 285\\n 5 17  9 201\\n 8  8  8 168\\n19  7  2 225\\n12 13  4 210\\n12  6  8 192\\n10 10 13 228\\n 9 20  7 243\\n 6  7  9 150\\n10 14 16 270\\n13  2  6 165\\n20  7 10 282\\n 6  4 16 174\\n18 12 10 294\\n 6  5 14 168\\n 7  5  2 105\\n 8  4 19 210\\n 1 16  3 123\\n11  1 16 201\\n11  7 18 249\\n14 16  4 246\\n17 17  5 285\\n 5 18 10 213\\n 5  5  2  87\\n12  5  8 186\\n17  5 19 297\\n 5 14 18 237\\n 6  8  4 126\\n 5  8 11 159\\n16 17  3 264\\n 8  9 17 228\\n12  9  1 168\\n11 12  1 177\\n 5  1  3  69\\n19  8  4 243\\n 7  7  5 135\\n15 15  5 255\\n 5 20  9 219\\n16  9 19 312\\n 4  4 18 168\\n 9 11 11 213\\n 1 17  3 129\\n20  1 16 282\\n17 20  5 303\\n10 16 11 252\\n16  5 10 234\\n12 15  2 210\\n11 14 17 285\\n 9 16 10 237\\n13 14 14 285\\n12 17 20 330\\n20 20 18 408\\n 2 16 16 210\\n 6  5  6 120\\n 8 13 20 270\\n 3  4 18 159\\n11  1 20 225\\n13 10 14 261\\n20  4 11 270\\n 5  9 12 171\\n 9  2 20 213\\n 3  2  6  75\\n 9  5 15 201\\n10 19 20 324\\n 9 15 10 231\\n11  1 10 165\\n 6 11 17 222\\n14  5  3 174\\n16 16 16 336\\n14 18  6 270\\n11  6 13 213\\n17 15  3 261\\n17 15  8 291\\n 8  5  9 156\\n12 16 17 306\\n 1 18  4 141\\n18  4 12 258\\n 4  2 12 120\\n 2 10 20 198\\n 9  1  1  93\\n 9  5  4 135\\n20  1  5 216\\n 9 10 18 249\\n20 14  7 306\\n17 15  5 273\\n 8 15 14 246\\n 9 15 10 231\\n 3 16  6 159\\n 9 19  3 213\\n 4 18  4 168\\n13  6  5 183\\n19 15 19 375\\n10  2 15 192\\n 5 17  1 153\\n 1 11 14 159'"
      ]
     },
     "execution_count": 113,
     "metadata": {},
     "output_type": "execute_result"
    }
   ],
   "source": [
    "def data_to_string(code_model):\n",
    "    df = pseudo_data()\n",
    "    exec(code_model)\n",
    "    df['y'] = predict(df)\n",
    "    str_df = df.to_string(index=False)\n",
    "    return str_df"
   ]
  },
  {
   "cell_type": "code",
   "execution_count": null,
   "metadata": {},
   "outputs": [],
   "source": []
  }
 ],
 "metadata": {
  "kernelspec": {
   "display_name": "Python 3.9.18 ('.venv': poetry)",
   "language": "python",
   "name": "python3"
  },
  "language_info": {
   "codemirror_mode": {
    "name": "ipython",
    "version": 3
   },
   "file_extension": ".py",
   "mimetype": "text/x-python",
   "name": "python",
   "nbconvert_exporter": "python",
   "pygments_lexer": "ipython3",
   "version": "3.9.18"
  },
  "orig_nbformat": 4,
  "vscode": {
   "interpreter": {
    "hash": "d7ca6b84e89745352c547fff8c66fb32f34a13c3ca838a9151286656122fd656"
   }
  }
 },
 "nbformat": 4,
 "nbformat_minor": 2
}
